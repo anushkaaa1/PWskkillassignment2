{
 "cells": [
  {
   "cell_type": "markdown",
   "id": "d782c06d-75b2-4381-8dfc-06aff26202fd",
   "metadata": {},
   "source": [
    "Q1. How can we store a single quote(') as a string in a variable?"
   ]
  },
  {
   "cell_type": "code",
   "execution_count": 1,
   "id": "9cf9c5be-1faf-4c01-b151-beb6892b2b4f",
   "metadata": {},
   "outputs": [
    {
     "name": "stdout",
     "output_type": "stream",
     "text": [
      "'\n"
     ]
    }
   ],
   "source": [
    "a = \"\\'\"\n",
    "print(a)"
   ]
  },
  {
   "cell_type": "markdown",
   "id": "4ec77bff-71e2-494f-aed6-5c109848d308",
   "metadata": {},
   "source": [
    "Q2. Refer the below variable X = 'a'. Here, is X a character type or string type variable? Support your answer with an explanation."
   ]
  },
  {
   "cell_type": "markdown",
   "id": "ddf51a8c-7355-4467-8bfa-3bcd23a752ca",
   "metadata": {},
   "source": [
    "ans. X is a character type variable because character literal is a single character surrounded by single or double quotes. And string is a sequence of characters."
   ]
  },
  {
   "cell_type": "markdown",
   "id": "026c00ab-9f87-4f8b-8bb2-6a4da2b59441",
   "metadata": {},
   "source": [
    "Q3. Apply the following functions on this variables 'welcome to python foundation course'.\n",
    "\n",
    "ans. (i) find() = "
   ]
  },
  {
   "cell_type": "code",
   "execution_count": 2,
   "id": "ac66d9e8-323f-484a-b6f1-5d486f3672b2",
   "metadata": {},
   "outputs": [
    {
     "name": "stdout",
     "output_type": "stream",
     "text": [
      "3\n"
     ]
    }
   ],
   "source": [
    "x = 'welcome to python foundation course'\n",
    "print(x.find(\"com\"))"
   ]
  },
  {
   "cell_type": "markdown",
   "id": "182979da-8db4-40d7-9d7c-4bb19221224c",
   "metadata": {},
   "source": [
    "(ii) count() = "
   ]
  },
  {
   "cell_type": "code",
   "execution_count": 3,
   "id": "c3483362-0290-4efb-bebc-ff8534c209ec",
   "metadata": {},
   "outputs": [
    {
     "name": "stdout",
     "output_type": "stream",
     "text": [
      "3\n"
     ]
    }
   ],
   "source": [
    "print(x.count(\"t\"))"
   ]
  },
  {
   "cell_type": "markdown",
   "id": "754164eb-e981-479e-9562-7485d2486ff9",
   "metadata": {},
   "source": [
    "(iii) len() ="
   ]
  },
  {
   "cell_type": "code",
   "execution_count": 4,
   "id": "374fa41d-10c9-4c05-8af8-3c2cb424cc68",
   "metadata": {},
   "outputs": [
    {
     "name": "stdout",
     "output_type": "stream",
     "text": [
      "35\n"
     ]
    }
   ],
   "source": [
    "print(len(x))"
   ]
  },
  {
   "cell_type": "markdown",
   "id": "2c0638b5-5b2a-4de0-871a-8af04a3f9b18",
   "metadata": {},
   "source": [
    "(iv) concatenation() = "
   ]
  },
  {
   "cell_type": "code",
   "execution_count": 6,
   "id": "7a55352d-68bb-4a07-8236-3e6912b9feaf",
   "metadata": {},
   "outputs": [
    {
     "name": "stdout",
     "output_type": "stream",
     "text": [
      "welcome to python foundation course by pwskills\n"
     ]
    }
   ],
   "source": [
    "y = \" by pwskills\"\n",
    "print(x + y)"
   ]
  },
  {
   "cell_type": "markdown",
   "id": "538475b9-f8e0-4363-aa2f-6e3f9112d30a",
   "metadata": {},
   "source": [
    "Q4. For the variable word = 'PanaJi@12256' Calculate the following."
   ]
  },
  {
   "cell_type": "markdown",
   "id": "919c4a38-15cb-42b2-8410-5b595dd60c7b",
   "metadata": {},
   "source": [
    "(a) Total number of alphabets in lowercase"
   ]
  },
  {
   "cell_type": "code",
   "execution_count": 7,
   "id": "cae2156d-b305-40b5-ba80-7e2a645126fe",
   "metadata": {},
   "outputs": [
    {
     "name": "stdout",
     "output_type": "stream",
     "text": [
      "number of lowercase alphabet is 4\n"
     ]
    }
   ],
   "source": [
    "a = 'PanaJi@12256'\n",
    "lower = 0\n",
    "for i in a:\n",
    "    if i.islower():\n",
    "        lower = lower + 1\n",
    "print(f\"number of lowercase alphabet is {lower}\")        "
   ]
  },
  {
   "cell_type": "markdown",
   "id": "f551a83f-ffc9-4607-8c1f-88061680c9ec",
   "metadata": {},
   "source": [
    "(b) Total number of alphabets in uppercase"
   ]
  },
  {
   "cell_type": "code",
   "execution_count": 9,
   "id": "231a2c04-e7be-4bef-8407-479a88bae6fa",
   "metadata": {},
   "outputs": [
    {
     "name": "stdout",
     "output_type": "stream",
     "text": [
      "number of uppercase alphabet is 2\n"
     ]
    }
   ],
   "source": [
    "a = 'PanaJi@12256'\n",
    "upper = 0\n",
    "for i in a:\n",
    "    if i.isupper():\n",
    "        upper = upper + 1\n",
    "print(f\"number of uppercase alphabet is {upper}\")        "
   ]
  },
  {
   "cell_type": "markdown",
   "id": "01fd49fa-cd75-4847-869f-9cd0f3886c21",
   "metadata": {},
   "source": [
    "(c) Total number of numerical in string"
   ]
  },
  {
   "cell_type": "code",
   "execution_count": 10,
   "id": "ec098f36-ce22-4ed3-ad19-ef881f3769ef",
   "metadata": {},
   "outputs": [
    {
     "name": "stdout",
     "output_type": "stream",
     "text": [
      "number of numerical in string is 5\n"
     ]
    }
   ],
   "source": [
    "a = 'PanaJi@12256'\n",
    "num = 0\n",
    "for i in a:\n",
    "    if i.isnumeric():\n",
    "        num = num + 1\n",
    "print(f\"number of numerical in string is {num}\")        "
   ]
  },
  {
   "cell_type": "markdown",
   "id": "afaad55f-eb2f-46bc-95cf-377b8e913962",
   "metadata": {},
   "source": [
    "Q5 Write a code to store a numerical value inside a variable then convert it into string."
   ]
  },
  {
   "cell_type": "code",
   "execution_count": 1,
   "id": "89a52a4a-8089-49b9-99df-3637131f7220",
   "metadata": {},
   "outputs": [
    {
     "name": "stdout",
     "output_type": "stream",
     "text": [
      "<class 'int'>\n",
      "2345\n",
      "<class 'str'>\n"
     ]
    }
   ],
   "source": [
    "a = 2345\n",
    "print(type(a))\n",
    "a = str(a)\n",
    "print(a)\n",
    "print(type(a))"
   ]
  },
  {
   "cell_type": "code",
   "execution_count": null,
   "id": "cf96f15c-09ef-4d00-89bf-142487a7cde6",
   "metadata": {},
   "outputs": [],
   "source": []
  }
 ],
 "metadata": {
  "kernelspec": {
   "display_name": "Python 3 (ipykernel)",
   "language": "python",
   "name": "python3"
  },
  "language_info": {
   "codemirror_mode": {
    "name": "ipython",
    "version": 3
   },
   "file_extension": ".py",
   "mimetype": "text/x-python",
   "name": "python",
   "nbconvert_exporter": "python",
   "pygments_lexer": "ipython3",
   "version": "3.10.8"
  }
 },
 "nbformat": 4,
 "nbformat_minor": 5
}
